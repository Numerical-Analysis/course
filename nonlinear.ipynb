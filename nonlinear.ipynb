{
 "cells": [
  {
   "cell_type": "markdown",
   "metadata": {},
   "source": [
    "# This is for solving univariate equations"
   ]
  },
  {
   "cell_type": "markdown",
   "metadata": {},
   "source": [
    "polynomial of degree <= 4 has formulas"
   ]
  },
  {
   "cell_type": "code",
   "execution_count": 12,
   "metadata": {
    "scrolled": true
   },
   "outputs": [
    {
     "data": {
      "image/png": "[encoded data removed]",
      "text/plain": [
       "<matplotlib.figure.Figure at 0x10ab64050>"
      ]
     },
     "metadata": {},
     "output_type": "display_data"
    }
   ],
   "source": [
    "#graph y=x^5-x-1\n",
    "import numpy as np\n",
    "import matplotlib.pyplot as plt\n",
    "def f(x): return x**5 - x - 1\n",
    "x = np.arange(-1,1.5,0.05)\n",
    "plt.plot(x,f(x),x,0*x,'k')\n",
    "plt.title(r'$y=x^5-x-1$')\n",
    "plt.show()"
   ]
  },
  {
   "cell_type": "code",
   "execution_count": 13,
   "metadata": {},
   "outputs": [
    {
     "data": {
      "text/plain": [
       "1.1673039782615267"
      ]
     },
     "execution_count": 13,
     "metadata": {},
     "output_type": "execute_result"
    }
   ],
   "source": [
    "#Finding the root\n",
    "from scipy.optimize import brentq\n",
    "brentq(f,-1,1.5)"
   ]
  },
  {
   "cell_type": "markdown",
   "metadata": {},
   "source": [
    "How does the function brentq find the root? We will introduce two methods: Bisection and Newton\n",
    "\n",
    "IVT"
   ]
  },
  {
   "cell_type": "code",
   "execution_count": 1,
   "metadata": {},
   "outputs": [],
   "source": [
    "#evaluate f at 0.5 and 1.5"
   ]
  },
  {
   "cell_type": "code",
   "execution_count": 2,
   "metadata": {},
   "outputs": [],
   "source": [
    "#evaluate f at 1.25"
   ]
  },
  {
   "cell_type": "code",
   "execution_count": 4,
   "metadata": {},
   "outputs": [
    {
     "name": "stdout",
     "output_type": "stream",
     "text": [
      "50\n"
     ]
    },
    {
     "data": {
      "text/plain": [
       "1.167303978261418"
      ]
     },
     "execution_count": 4,
     "metadata": {},
     "output_type": "execute_result"
    }
   ],
   "source": [
    "l = 1\n",
    "r = 1.5\n",
    "tol = 10**-15\n",
    "cnt = 1\n",
    "yl = f(l)\n",
    "yr = f(r)\n",
    "while abs(l-r)>tol and cnt<100:\n",
    "    c = (l+r)/2\n",
    "    yc = f(c)\n",
    "    if yc==0:break\n",
    "    if np.sign(yc)*np.sign(yr)<0:\n",
    "        l = c\n",
    "        yl = yc\n",
    "    if np.sign(yc)*np.sign(yl)<0:\n",
    "        r = c\n",
    "        yr = yc\n",
    "    cnt = cnt + 1\n",
    "print(cnt)\n",
    "c"
   ]
  },
  {
   "cell_type": "markdown",
   "metadata": {
    "collapsed": true
   },
   "source": [
    "Newton's method\n",
    "\n",
    "Formula derivation"
   ]
  },
  {
   "cell_type": "code",
   "execution_count": 5,
   "metadata": {
    "collapsed": true
   },
   "outputs": [],
   "source": [
    "def df(x): return 5*x**4-1"
   ]
  },
  {
   "cell_type": "code",
   "execution_count": 28,
   "metadata": {},
   "outputs": [
    {
     "name": "stdout",
     "output_type": "stream",
     "text": [
      "4\n"
     ]
    },
    {
     "data": {
      "text/plain": [
       "1.1673039782614187"
      ]
     },
     "execution_count": 28,
     "metadata": {},
     "output_type": "execute_result"
    }
   ],
   "source": [
    "#newton's method\n",
    "x = 1.17 #initial value\n",
    "tol = 10**-14\n",
    "cnt = 1\n",
    "while abs(f(x))>tol and cnt < 100:\n",
    "    x = x - f(x)/df(x)\n",
    "    cnt = cnt + 1\n",
    "print(cnt)\n",
    "x"
   ]
  },
  {
   "cell_type": "markdown",
   "metadata": {},
   "source": [
    "Initial value is important. Newton's method is however very sensitive to initial value. Try x=0\n",
    "\n",
    "Another drawback is that we need to know its derivative\n",
    "\n",
    "# Secant Method"
   ]
  },
  {
   "cell_type": "code",
   "execution_count": null,
   "metadata": {
    "collapsed": true
   },
   "outputs": [],
   "source": []
  }
 ],
 "metadata": {
  "celltoolbar": "Raw Cell Format",
  "kernelspec": {
   "display_name": "Python 2",
   "language": "python",
   "name": "python2"
  },
  "language_info": {
   "codemirror_mode": {
    "name": "ipython",
    "version": 2
   },
   "file_extension": ".py",
   "mimetype": "text/x-python",
   "name": "python",
   "nbconvert_exporter": "python",
   "pygments_lexer": "ipython2",
   "version": "2.7.13"
  }
 },
 "nbformat": 4,
 "nbformat_minor": 2
}
