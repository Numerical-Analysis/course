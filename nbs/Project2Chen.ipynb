{
 "cells": [
  {
   "cell_type": "markdown",
   "metadata": {},
   "source": [
    "# Project 2: Gauss Elimination and Least Square"
   ]
  },
  {
   "cell_type": "markdown",
   "metadata": {},
   "source": [
    "(1) Write your name here: Xuemei Chen"
   ]
  },
  {
   "cell_type": "markdown",
   "metadata": {},
   "source": [
    "## Computing power\n",
    "The LINPACK Benchmarks are a measure of a system's floating point computing power. Introduced by Jack Dongarra, they measure how fast a computer solves a dense n by n system of linear equations $Ax = b$. This is the standard measure for computer speed. Supercomputers (which usually have linux operating systems) can do about 10 petaflops in one second. One petaflop is $10^{15}$ flops. \n",
    "\n",
    "Titan, a supercomputer in the Oak Ridge National lab, is the fastest computer in the US. It can perform 17.59 petaflops every second.\n",
    "\n",
    "(2) Calculate how much time (in seconds) does Titan need to solve a 5000 by 5000 system $Ax=b$, assuming it takes $\\frac{2}{3}n^3$ flops for Gauss Elimination?"
   ]
  },
  {
   "cell_type": "code",
   "execution_count": 6,
   "metadata": {},
   "outputs": [
    {
     "data": {
      "text/plain": [
       "4.737540269092287e-06"
      ]
     },
     "execution_count": 6,
     "metadata": {},
     "output_type": "execute_result"
    }
   ],
   "source": [
    "(5000**3*2/3.0)/(17.59*10**15)"
   ]
  },
  {
   "cell_type": "markdown",
   "metadata": {},
   "source": [
    "Laptops nowadays is around 10's gigaflops. **Now let's see how fast your own machine is**.\n",
    "\n",
    "(3) Create a 5000 by 5000 random matrix $R$, and create a 5000 by 1 random vector $rb$, where each entry of $R$ and $rb$ is standard normal distribution (Hint: look up numpy.random)"
   ]
  },
  {
   "cell_type": "code",
   "execution_count": 1,
   "metadata": {
    "collapsed": true
   },
   "outputs": [],
   "source": [
    "import numpy as np\n",
    "R = np.random.randn(5000,5000)\n",
    "rb = np.random.randn(5000,1)"
   ]
  },
  {
   "cell_type": "markdown",
   "metadata": {},
   "source": [
    "(4) Measure how much time does it take to solve this random $Rx=rb$. Below is an easy way to measure time\n",
    "\n",
    "```python\n",
    "import timeit\n",
    "start = timeit.default_timer()\n",
    "\n",
    "#Your operation here\n",
    "\n",
    "end = timeit.default_timer()\n",
    "print end - start\n",
    "```"
   ]
  },
  {
   "cell_type": "code",
   "execution_count": 64,
   "metadata": {},
   "outputs": [
    {
     "name": "stdout",
     "output_type": "stream",
     "text": [
      "2.34996700287\n"
     ]
    }
   ],
   "source": [
    "import timeit\n",
    "from scipy.linalg import solve,inv\n",
    "start = timeit.default_timer()\n",
    "solve(R,rb)\n",
    "end = timeit.default_timer()\n",
    "et = end - start\n",
    "print et"
   ]
  },
  {
   "cell_type": "markdown",
   "metadata": {},
   "source": [
    "(5) Now calculate how many gegaflops your computer can do in a second."
   ]
  },
  {
   "cell_type": "code",
   "execution_count": 4,
   "metadata": {},
   "outputs": [
    {
     "data": {
      "text/plain": [
       "58.018639015824924"
      ]
     },
     "execution_count": 4,
     "metadata": {},
     "output_type": "execute_result"
    }
   ],
   "source": [
    "6000**3*2/3.0/et/10**9"
   ]
  },
  {
   "cell_type": "markdown",
   "metadata": {},
   "source": [
    "(5) Also measure how much total time your computer takes to find inverse of $R$ and multiply $R^{-1}*b$. You should get the message that this is a worse way to solve $Rx=rb$. In general, it never does you any good to find inverse in numerical computing."
   ]
  },
  {
   "cell_type": "code",
   "execution_count": 5,
   "metadata": {},
   "outputs": [
    {
     "name": "stdout",
     "output_type": "stream",
     "text": [
      "4.15607619286\n"
     ]
    }
   ],
   "source": [
    "start = timeit.default_timer()\n",
    "Ri = inv(R)\n",
    "x = np.dot(Ri,rb)\n",
    "end = timeit.default_timer()\n",
    "et2 = end - start\n",
    "print et2"
   ]
  },
  {
   "cell_type": "markdown",
   "metadata": {},
   "source": [
    "## Gaussian Elimination from scratch"
   ]
  },
  {
   "cell_type": "markdown",
   "metadata": {},
   "source": [
    "Below is the SPLU function that I wrote. It decompose $A$ as $A=PLU$ using **Scaled Partial Pivoting**, where $P$ is a permutation matrix, $L$ is lower triangular, and $U$ is upper triangular."
   ]
  },
  {
   "cell_type": "code",
   "execution_count": 1,
   "metadata": {
    "collapsed": true
   },
   "outputs": [],
   "source": [
    "import numpy as np\n",
    "# Input A is any invertible matrix\n",
    "# return P,L,U such that A = PLU\n",
    "def SPLU(A):     \n",
    "    sA = A.shape\n",
    "    # make sure it is in float\n",
    "    A = A.astype(float)\n",
    "    \n",
    "    #Check A is square    \n",
    "    if sA[0] != sA[1]:\n",
    "        raise ValueError('You need to enter a square matrix.')\n",
    "    n = sA[0]    \n",
    "    # find the max in each row\n",
    "    AA = np.absolute(A)\n",
    "    s = np.amax(AA,axis=1)\n",
    "    RowInd = []  #Initiate an empty list for row indices\n",
    "    L = np.identity(n)\n",
    "    for j in range(n-1): # at column j\n",
    "        # Find the row index of the pivot\n",
    "        allRI = list(set(range(n)) - set(RowInd))\n",
    "        allRelV = AA[allRI,j]/s[allRI]\n",
    "        fi = np.argmax(allRelV)\n",
    "        ri = allRI[fi] #ri is the pivot row idex        \n",
    "        #update RowInd\n",
    "        RowInd.append(ri)        \n",
    "        for i in list(set(allRI) - set([ri])): \n",
    "            if A[ri,j] == 0:\n",
    "                raise ValueError('You need to enter an invertible matrix.')\n",
    "            c = -A[i,j]/A[ri,j]\n",
    "            A[i,j:n] = A[ri, j:n]*c + A[i,j:n] \n",
    "            if c != 0:\n",
    "                L[i,ri]= -c\n",
    "        print A\n",
    "    # build P,L,U according to RowInd\n",
    "    LastL = list(set(range(n)) - set(RowInd))\n",
    "    LastI = LastL[0]\n",
    "    RowInd.append(LastI)\n",
    "    I = np.identity(n)\n",
    "    P = I[:,RowInd]\n",
    "    U = A[RowInd,:]\n",
    "    L = L[:,RowInd] #permute columns \n",
    "    L = L[RowInd,:]\n",
    "    return (P, L, U)"
   ]
  },
  {
   "cell_type": "markdown",
   "metadata": {},
   "source": [
    "(6) Use the above function to check your work on chapter 4 exercise 6. Print out P,L,U, and make sure their product is the original matrix."
   ]
  },
  {
   "cell_type": "code",
   "execution_count": 2,
   "metadata": {},
   "outputs": [
    {
     "name": "stdout",
     "output_type": "stream",
     "text": [
      "[[  0.    11.25   0.  ]\n",
      " [  0.     3.5    8.  ]\n",
      " [ -4.     7.     4.  ]]\n",
      "[[  0.    11.25   0.  ]\n",
      " [  0.     0.     8.  ]\n",
      " [ -4.     7.     4.  ]]\n",
      "[[ -4.     7.     4.  ]\n",
      " [  0.    11.25   0.  ]\n",
      " [  0.     0.     8.  ]]\n"
     ]
    }
   ],
   "source": [
    "B = np.array([[3,6,-3],[2,0,6],[-4,7,4]])\n",
    "(P,L,U) = SPLU(B)\n",
    "print U"
   ]
  },
  {
   "cell_type": "markdown",
   "metadata": {},
   "source": [
    "(7) Write a function SL(L,b) to solve $Lx=b$ where $L$ is lower triangular. Make sure you first verify that $L$ is lower triangular and invertible. \n",
    "## Try to write comments/explanations when you write a function"
   ]
  },
  {
   "cell_type": "code",
   "execution_count": 3,
   "metadata": {
    "collapsed": true
   },
   "outputs": [],
   "source": [
    "def SL(L,b):\n",
    "    L = L.astype(float)\n",
    "    sL = L.shape\n",
    "    if sL[0]!= sL[1]:\n",
    "        raise ValueError('You need to enter a square lower triangular matrix.')\n",
    "    n = sL[0]\n",
    "    for i in range(n):\n",
    "        for j in range(i+1,n):\n",
    "            if L[i][j] !=0:\n",
    "                raise ValueError('You need to enter a square lower triangular matrix.')\n",
    "    \n",
    "    # Initiate x\n",
    "    x = np.zeros(n)\n",
    "    for i in range(n): #solve forwardly\n",
    "        if L[i,i] == 0:\n",
    "            raise ValueError('Your L is not invertible.')\n",
    "        x[i] = (b[i] - np.sum(x[:i]*L[i,:i]))/L[i,i]\n",
    "    return x"
   ]
  },
  {
   "cell_type": "markdown",
   "metadata": {},
   "source": [
    "(8) Test your SL function on chapter 4 exercise 5, where L is the lower triangular matrix there, and b=(-3,-22,3).\n",
    "\n",
    "**Call the solution y**"
   ]
  },
  {
   "cell_type": "code",
   "execution_count": 6,
   "metadata": {},
   "outputs": [
    {
     "name": "stdout",
     "output_type": "stream",
     "text": [
      "[-1. -5. -3.]\n",
      "[-1. -5. -3.]\n"
     ]
    }
   ],
   "source": [
    "L = np.array([[3,0,0],[2,4,0],[-4,-1,2]])\n",
    "bb = np.array([-3,-22,3])\n",
    "y = SL(L,bb)\n",
    "print y\n",
    "yy = np.linalg.solve(L,bb)\n",
    "print yy"
   ]
  },
  {
   "cell_type": "markdown",
   "metadata": {},
   "source": [
    "(9) Write a function SU(U,b) to solve $Ux=b$ where $U$ is upper triangular. Make sure you verify that $U$ is upper triangular and invertible. This should be only a small modification of your previous function."
   ]
  },
  {
   "cell_type": "code",
   "execution_count": 7,
   "metadata": {
    "collapsed": true
   },
   "outputs": [],
   "source": [
    "def SU(U,b):\n",
    "    U = U.astype(float)\n",
    "    sU = U.shape\n",
    "    if sU[0]!= sU[1]:\n",
    "        raise ValueError('You need to enter a square upper triangular matrix.')\n",
    "    n = sU[0]\n",
    "    for i in range(n):\n",
    "        for j in range(i):\n",
    "            if U[i][j] !=0:\n",
    "                raise ValueError('You need to enter a square upper triangular matrix.')\n",
    "    \n",
    "    # Initiate x\n",
    "    x = np.zeros(n)\n",
    "    for i in range(n-1,-1,-1): #solve backwards\n",
    "        if U[i,i] == 0:\n",
    "            raise ValueError('Your U is not invertible.')\n",
    "        x[i] = (b[i] - np.sum(x[i+1:]*U[i,i+1:]))/U[i,i]\n",
    "    return x"
   ]
  },
  {
   "cell_type": "markdown",
   "metadata": {},
   "source": [
    "(10) Test your SU function on chapter 4 exercise 5, where U is the upper triangular matrix there, and b is the y vector that you solved in (8)."
   ]
  },
  {
   "cell_type": "code",
   "execution_count": 15,
   "metadata": {
    "scrolled": true
   },
   "outputs": [
    {
     "name": "stdout",
     "output_type": "stream",
     "text": [
      "[-2.  1. -3.]\n",
      "[-2.  1. -3.]\n"
     ]
    }
   ],
   "source": [
    "U = np.array([[1,-2,-1],[0,1,2],[0,0,1]])\n",
    "x = SU(U,y)\n",
    "print x\n",
    "xx = np.linalg.solve(U,y)\n",
    "print xx"
   ]
  },
  {
   "cell_type": "markdown",
   "metadata": {},
   "source": [
    "(11) Write a function MySolve(A,b) that solves Ax=b using scaled partial pivoting. Your code will call SPLU, SU, SL, and should be only a few lines."
   ]
  },
  {
   "cell_type": "code",
   "execution_count": 10,
   "metadata": {
    "collapsed": true
   },
   "outputs": [],
   "source": [
    "import numpy as np\n",
    "import scipy.linalg as sl\n",
    "def MySolve(A,b):\n",
    "    (P,L,U) = SPLU(A)\n",
    "    #(P,L,U) = sl.lu(A)\n",
    "    #need to solve PLUx=b, which is LUx = P'b\n",
    "    newb = np.dot(np.transpose(P),b)\n",
    "    y = SL(L,newb)\n",
    "    x = SU(U,y)\n",
    "    return x"
   ]
  },
  {
   "cell_type": "markdown",
   "metadata": {},
   "source": [
    "(12) Test MySolve on chapter 4 exercise 5."
   ]
  },
  {
   "cell_type": "code",
   "execution_count": 11,
   "metadata": {},
   "outputs": [
    {
     "name": "stdout",
     "output_type": "stream",
     "text": [
      "[-2.  1. -3.]\n",
      "[ -3 -22   3]\n"
     ]
    }
   ],
   "source": [
    "A = np.array([[3,-6,-3],[2,0,6],[-4,7,4]])\n",
    "b=np.array([-3,-22,3])\n",
    "#x = MySolve(A,b)\n",
    "x= np.linalg.solve(A,b)\n",
    "print x\n",
    "#newx = np.array([-2,1,-3])\n",
    "print np.dot(A,np.array([-2,1,-3]))\n"
   ]
  },
  {
   "cell_type": "markdown",
   "metadata": {},
   "source": [
    "## Least Square via Cholesky"
   ]
  },
  {
   "cell_type": "markdown",
   "metadata": {},
   "source": [
    "(13) Write a function LS(A,b) to find the least square solution of Ax=b, where A has independent columns. Your algoritm will first use python's cholesky function, then use your own SL and SU functions to find the final solution."
   ]
  },
  {
   "cell_type": "code",
   "execution_count": 12,
   "metadata": {
    "collapsed": true
   },
   "outputs": [],
   "source": [
    "import numpy as np\n",
    "import numpy.linalg as nl\n",
    "def LS(A,b):\n",
    "    At = np.transpose(A)\n",
    "    B = np.dot(At,A)\n",
    "    L = nl.cholesky(B)\n",
    "    y = SL(L,np.dot(At,b))\n",
    "    U = np.transpose(L)\n",
    "    x = SU(U,y)\n",
    "    return x"
   ]
  },
  {
   "cell_type": "markdown",
   "metadata": {},
   "source": [
    "Below is the scores of games played between Team A, B, C, D, E\n",
    "\n",
    "| Home | Away | Home score | Away score |\n",
    "|:--- | :---  | :---  | :---  |\n",
    "|A|B|10|4|\n",
    "|A|C|1|3|\n",
    "|A|D|8|4|\n",
    "|A|E|6|4|\n",
    "|B|A|5|9|\n",
    "|B|C|1|13|\n",
    "|B|D|5|4|\n",
    "|C|A|16|12|\n",
    "|C|B|11|13|\n",
    "|C|D|8|4|\n",
    "|C|E|9|3|\n",
    "|D|A|8|13|\n",
    "|D|B|5|4|\n",
    "|D|C|6|12|\n",
    "|E|B|3|4|\n",
    "|E|C|1|3|\n",
    "|E|D|3|6|"
   ]
  },
  {
   "cell_type": "markdown",
   "metadata": {},
   "source": [
    "(14) Extra credit problem: Try your best to rank these 5 teams simply by staring at the table:"
   ]
  },
  {
   "cell_type": "markdown",
   "metadata": {},
   "source": [
    "(15) Assign each team an overall score $s_i$ and use the function you wrote in (13) to find the scores. We can assume $\\sum s_i=100$."
   ]
  },
  {
   "cell_type": "code",
   "execution_count": 13,
   "metadata": {},
   "outputs": [],
   "source": [
    "G = np.zeros((17,5))\n",
    "G = np.array([[1,-1,0,0,0],[1,0,-1,0,0],[1,0,0,-1,0],[1,0,0,0,-1],[-1,1,0,0,0],[0,1,-1,0,0],[0,1,0,-1,0]])\n",
    "G = np.vstack([G,[-1,0,1,0,0],[0,-1,1,0,0],[0,0,1,-1,0],[0,0,1,0,-1]])\n",
    "G = np.vstack([G,[-1,0,0,1,0],[0,-1,0,1,0],[0,0,-1,1,0],[0,-1,0,0,1],[0,0,-1,0,1],[0,0,0,-1,1],[1,1,1,1,1]])\n",
    "b = np.array([6,-2,4,2,-4,-12,1,4,-2,4,6,-5,1,-6,-1,-2,-3,100])"
   ]
  },
  {
   "cell_type": "code",
   "execution_count": 14,
   "metadata": {},
   "outputs": [
    {
     "data": {
      "text/plain": [
       "array([ 21.86296296,  18.08518519,  23.4       ,  18.41851852,  18.23333333])"
      ]
     },
     "execution_count": 14,
     "metadata": {},
     "output_type": "execute_result"
    }
   ],
   "source": [
    "LS(G,b)"
   ]
  },
  {
   "cell_type": "markdown",
   "metadata": {},
   "source": [
    "(16) Rank these 5 teams according to your solution:"
   ]
  },
  {
   "cell_type": "markdown",
   "metadata": {
    "collapsed": true
   },
   "source": [
    "C>A>D>E>B"
   ]
  },
  {
   "cell_type": "code",
   "execution_count": null,
   "metadata": {
    "collapsed": true
   },
   "outputs": [],
   "source": []
  }
 ],
 "metadata": {
  "kernelspec": {
   "display_name": "Python 2",
   "language": "python",
   "name": "python2"
  },
  "language_info": {
   "codemirror_mode": {
    "name": "ipython",
    "version": 2
   },
   "file_extension": ".py",
   "mimetype": "text/x-python",
   "name": "python",
   "nbconvert_exporter": "python",
   "pygments_lexer": "ipython2",
   "version": "2.7.13"
  }
 },
 "nbformat": 4,
 "nbformat_minor": 2
}
