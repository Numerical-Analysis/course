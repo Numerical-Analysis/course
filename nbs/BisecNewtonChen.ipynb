{
 "cells": [
  {
   "cell_type": "markdown",
   "metadata": {},
   "source": [
    "# Python project 1 -- Combine bisection and Newton"
   ]
  },
  {
   "cell_type": "markdown",
   "metadata": {},
   "source": [
    " First write your name after colon: Xuemei Chen"
   ]
  },
  {
   "cell_type": "code",
   "execution_count": 1,
   "metadata": {
    "collapsed": true
   },
   "outputs": [],
   "source": [
    "# This is the Bisection method\n",
    "# l is initial left end point, r is initial right end point\n",
    "# Iter is the number of iterations to run, f is the original function \n",
    "# The function returns the root of f\n",
    "import numpy as np\n",
    "def Bisec(l, r, Iter, f):\n",
    "    cnt = 0\n",
    "    yl = f(l)\n",
    "    yr = f(r)\n",
    "    while cnt < Iter:\n",
    "        c = (l+r)/2\n",
    "        yc = f(c)\n",
    "        if yc==0:break\n",
    "        if np.sign(yc)*np.sign(yr)<0:\n",
    "            l = c\n",
    "            yl = yc\n",
    "        if np.sign(yc)*np.sign(yl)<0:\n",
    "            r = c\n",
    "            yr = yc\n",
    "        cnt = cnt + 1\n",
    "    return c"
   ]
  },
  {
   "cell_type": "code",
   "execution_count": 2,
   "metadata": {
    "collapsed": true
   },
   "outputs": [],
   "source": [
    "# This is the Newton's method\n",
    "# Initial is the initial value, Iter is the number of iterations to run\n",
    "# f is the original function, df is its derivative\n",
    "# The function returns the root of f\n",
    "def  Newton(Initial, Iter, f, df): \n",
    "    cnt = 0\n",
    "    x = Initial\n",
    "    while cnt < Iter:\n",
    "        x = x - f(x)/df(x)\n",
    "        cnt = cnt + 1\n",
    "    return x"
   ]
  },
  {
   "cell_type": "markdown",
   "metadata": {},
   "source": [
    "(2) Define $f(x)=x^5-x-1$ and its derivative df in the following cell"
   ]
  },
  {
   "cell_type": "code",
   "execution_count": 3,
   "metadata": {
    "collapsed": true
   },
   "outputs": [],
   "source": [
    "def f(x): return x**5 - x - 1\n",
    "def df(x): return 5*x**4 - 1"
   ]
  },
  {
   "cell_type": "code",
   "execution_count": 4,
   "metadata": {},
   "outputs": [
    {
     "data": {
      "text/plain": [
       "1.1673039782615267"
      ]
     },
     "execution_count": 4,
     "metadata": {},
     "output_type": "execute_result"
    }
   ],
   "source": [
    "# Python has a built-in function to find root of f\n",
    "from scipy.optimize import brentq\n",
    "brentq(f,-1,1.5)"
   ]
  },
  {
   "cell_type": "markdown",
   "metadata": {},
   "source": [
    "(3) In the following cell, use previously defined functions to find root of f by Bisection method: left=1, right=1.5, Iter = 5"
   ]
  },
  {
   "cell_type": "code",
   "execution_count": 5,
   "metadata": {},
   "outputs": [
    {
     "data": {
      "text/plain": [
       "1.171875"
      ]
     },
     "execution_count": 5,
     "metadata": {},
     "output_type": "execute_result"
    }
   ],
   "source": [
    "Bisec(1,1.5,5,f)"
   ]
  },
  {
   "cell_type": "markdown",
   "metadata": {},
   "source": [
    "(4) In the following cell, use previously defined functions to find root of f by Newton's method: Initial = 1.5 Iter = 5"
   ]
  },
  {
   "cell_type": "code",
   "execution_count": 6,
   "metadata": {},
   "outputs": [
    {
     "data": {
      "text/plain": [
       "1.1673039782677"
      ]
     },
     "execution_count": 6,
     "metadata": {},
     "output_type": "execute_result"
    }
   ],
   "source": [
    "Newton(1.5,5,f,df)"
   ]
  },
  {
   "cell_type": "markdown",
   "metadata": {},
   "source": [
    "(5) Which method is doing better: Newton"
   ]
  },
  {
   "cell_type": "markdown",
   "metadata": {},
   "source": [
    "(6) In the following cell, use previously defined functions to find root of f by Bisection method: left=0, right=1.5, Iter = 7"
   ]
  },
  {
   "cell_type": "code",
   "execution_count": 7,
   "metadata": {},
   "outputs": [
    {
     "data": {
      "text/plain": [
       "1.16015625"
      ]
     },
     "execution_count": 7,
     "metadata": {},
     "output_type": "execute_result"
    }
   ],
   "source": [
    "Bisec(0,1.5,7,f)"
   ]
  },
  {
   "cell_type": "markdown",
   "metadata": {},
   "source": [
    "(7) In the following cell, use previously defined functions to find root of f by Newton's method: Initial = 0 Iter = 7"
   ]
  },
  {
   "cell_type": "code",
   "execution_count": 8,
   "metadata": {},
   "outputs": [
    {
     "data": {
      "text/plain": [
       "-1"
      ]
     },
     "execution_count": 8,
     "metadata": {},
     "output_type": "execute_result"
    }
   ],
   "source": [
    "Newton(0,7,f,df)"
   ]
  },
  {
   "cell_type": "markdown",
   "metadata": {},
   "source": [
    "(8) Which method is doing better this time: Bisec"
   ]
  },
  {
   "cell_type": "markdown",
   "metadata": {},
   "source": [
    "(9) In the next cell, write a function BisecNewton(l,r,Iter,f,df) where you combine Newton's method with bisection: In each iteration, one has an interval [left,right] on which the function changes sign. If the Newton iteration would land outside [left,right], then do not accept it but do a bisection step instead.\n",
    "\n",
    "In your function, you need to check the initial [l,r] has the property that f(l)f(r)<0. Throw an error if not."
   ]
  },
  {
   "cell_type": "code",
   "execution_count": 10,
   "metadata": {
    "collapsed": true
   },
   "outputs": [],
   "source": [
    "import numpy as np\n",
    "def BisecNewton (l, r, Iter, f, df):\n",
    "    if np.sign(f(l))*np.sign(f(r))>0:\n",
    "        print(\"This initial interval does not gurantee a root. Pick a new interval\")\n",
    "    else:\n",
    "        cnt = 0\n",
    "        left = l\n",
    "        right = r\n",
    "        x = l #Pick initial value for Newton to be left endpoint. You can pick others like (l+r)/2\n",
    "        # In each iteration, we update cnt, left, right, and the root x\n",
    "        while cnt < Iter:\n",
    "            x = x - f(x)/df(x)  #First do a Newton iteration\n",
    "            if x <left or x > right: #if newton iteration land outside \n",
    "                print(\"Bisec\")\n",
    "                x = (left + right)/2 #we perform a bisection (discard the newton result)\n",
    "            else:\n",
    "                print(\"Newton\")\n",
    "            #below we need to update [left,right] whether we used Newton or Bisection\n",
    "            yx = f(x)\n",
    "            if yx==0:break\n",
    "            if np.sign(yx)*np.sign(f(right))<0:\n",
    "                left = x\n",
    "            if np.sign(yx)*np.sign(f(left))<0:\n",
    "                right = x\n",
    "                \n",
    "            cnt = cnt + 1\n",
    "        return x"
   ]
  },
  {
   "cell_type": "markdown",
   "metadata": {},
   "source": [
    "(10) Run BisecNewton with the initial interval [0.5,1], 5 iterations"
   ]
  },
  {
   "cell_type": "code",
   "execution_count": 11,
   "metadata": {},
   "outputs": [
    {
     "name": "stdout",
     "output_type": "stream",
     "text": [
      "This initial interval does not gurantee a root. Pick a new interval\n"
     ]
    }
   ],
   "source": [
    "BisecNewton(0.5,1,5,f,df)"
   ]
  },
  {
   "cell_type": "markdown",
   "metadata": {},
   "source": [
    "(11) Run BisecNewton with the initial interval [0,1.5], 5 iterations"
   ]
  },
  {
   "cell_type": "code",
   "execution_count": 12,
   "metadata": {},
   "outputs": [
    {
     "name": "stdout",
     "output_type": "stream",
     "text": [
      "Bisec\n",
      "Bisec\n",
      "Newton\n",
      "Newton\n"
     ]
    },
    {
     "data": {
      "text/plain": [
       "1.1673311209649697"
      ]
     },
     "execution_count": 12,
     "metadata": {},
     "output_type": "execute_result"
    }
   ],
   "source": [
    "BisecNewton(0,1.5,4,f,df)"
   ]
  },
  {
   "cell_type": "code",
   "execution_count": null,
   "metadata": {
    "collapsed": true
   },
   "outputs": [],
   "source": []
  }
 ],
 "metadata": {
  "anaconda-cloud": {},
  "kernelspec": {
   "display_name": "Python 2",
   "language": "python",
   "name": "python2"
  },
  "language_info": {
   "codemirror_mode": {
    "name": "ipython",
    "version": 2
   },
   "file_extension": ".py",
   "mimetype": "text/x-python",
   "name": "python",
   "nbconvert_exporter": "python",
   "pygments_lexer": "ipython2",
   "version": "2.7.13"
  }
 },
 "nbformat": 4,
 "nbformat_minor": 2
}
