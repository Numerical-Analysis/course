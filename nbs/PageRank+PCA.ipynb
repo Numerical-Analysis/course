{
 "cells": [
  {
   "cell_type": "markdown",
   "metadata": {},
   "source": [
    "# Page Rank"
   ]
  },
  {
   "cell_type": "code",
   "execution_count": 64,
   "metadata": {
    "collapsed": true
   },
   "outputs": [],
   "source": [
    "import numpy as np\n",
    "import pandas as pd\n",
    "from IPython.display import display\n",
    "import scipy.linalg as sl\n",
    "from scipy.cluster.vq import vq, kmeans, whiten\n",
    "import matplotlib.pyplot as plt"
   ]
  },
  {
   "cell_type": "code",
   "execution_count": 4,
   "metadata": {},
   "outputs": [
    {
     "data": {
      "text/plain": [
       "array([ 0,  2, 11, 10,  9,  3,  7,  5,  6,  1,  8,  4])"
      ]
     },
     "execution_count": 4,
     "metadata": {},
     "output_type": "execute_result"
    }
   ],
   "source": [
    "# random generator\n",
    "np.random.permutation(12)"
   ]
  },
  {
   "cell_type": "markdown",
   "metadata": {},
   "source": [
    "<img src=\"./fig/graph1.jpg\" style=\"width: 300px;\">"
   ]
  },
  {
   "cell_type": "markdown",
   "metadata": {},
   "source": [
    "This is a directed graph. The 6 nodes represents 6 pages. An outgoing arrow from 1 to 3 means that there is a link to page 3 on page 1."
   ]
  },
  {
   "cell_type": "code",
   "execution_count": 26,
   "metadata": {},
   "outputs": [],
   "source": [
    "columns = [0,10,100, 1000,10000,20000]\n",
    "index = range(1,7,1)\n",
    "clicks = np.array([[0,3,21,165,1504,3012],[1,2,16,148,1391,2790],[0,3,27,271,2706,5424],[0,0,4,100,1096,2206],[0,2,22,155,1415,2745],[0,1,11,162,1889,3824]])\n",
    "Clickdf = pd.DataFrame(clicks, index=index, columns=columns)"
   ]
  },
  {
   "cell_type": "code",
   "execution_count": 27,
   "metadata": {},
   "outputs": [
    {
     "data": {
      "text/html": [
       "<div>\n",
       "<style>\n",
       "    .dataframe thead tr:only-child th {\n",
       "        text-align: right;\n",
       "    }\n",
       "\n",
       "    .dataframe thead th {\n",
       "        text-align: left;\n",
       "    }\n",
       "\n",
       "    .dataframe tbody tr th {\n",
       "        vertical-align: top;\n",
       "    }\n",
       "</style>\n",
       "<table border=\"1\" class=\"dataframe\">\n",
       "  <thead>\n",
       "    <tr style=\"text-align: right;\">\n",
       "      <th></th>\n",
       "      <th>0</th>\n",
       "      <th>10</th>\n",
       "      <th>100</th>\n",
       "      <th>1000</th>\n",
       "      <th>10000</th>\n",
       "      <th>20000</th>\n",
       "    </tr>\n",
       "  </thead>\n",
       "  <tbody>\n",
       "    <tr>\n",
       "      <th>1</th>\n",
       "      <td>0</td>\n",
       "      <td>3</td>\n",
       "      <td>21</td>\n",
       "      <td>165</td>\n",
       "      <td>1504</td>\n",
       "      <td>3012</td>\n",
       "    </tr>\n",
       "    <tr>\n",
       "      <th>2</th>\n",
       "      <td>1</td>\n",
       "      <td>2</td>\n",
       "      <td>16</td>\n",
       "      <td>148</td>\n",
       "      <td>1391</td>\n",
       "      <td>2790</td>\n",
       "    </tr>\n",
       "    <tr>\n",
       "      <th>3</th>\n",
       "      <td>0</td>\n",
       "      <td>3</td>\n",
       "      <td>27</td>\n",
       "      <td>271</td>\n",
       "      <td>2706</td>\n",
       "      <td>5424</td>\n",
       "    </tr>\n",
       "    <tr>\n",
       "      <th>4</th>\n",
       "      <td>0</td>\n",
       "      <td>0</td>\n",
       "      <td>4</td>\n",
       "      <td>100</td>\n",
       "      <td>1096</td>\n",
       "      <td>2206</td>\n",
       "    </tr>\n",
       "    <tr>\n",
       "      <th>5</th>\n",
       "      <td>0</td>\n",
       "      <td>2</td>\n",
       "      <td>22</td>\n",
       "      <td>155</td>\n",
       "      <td>1415</td>\n",
       "      <td>2745</td>\n",
       "    </tr>\n",
       "    <tr>\n",
       "      <th>6</th>\n",
       "      <td>0</td>\n",
       "      <td>1</td>\n",
       "      <td>11</td>\n",
       "      <td>162</td>\n",
       "      <td>1889</td>\n",
       "      <td>3824</td>\n",
       "    </tr>\n",
       "  </tbody>\n",
       "</table>\n",
       "</div>"
      ],
      "text/plain": [
       "   0      10     100    1000   10000  20000\n",
       "1      0      3     21    165   1504   3012\n",
       "2      1      2     16    148   1391   2790\n",
       "3      0      3     27    271   2706   5424\n",
       "4      0      0      4    100   1096   2206\n",
       "5      0      2     22    155   1415   2745\n",
       "6      0      1     11    162   1889   3824"
      ]
     },
     "metadata": {},
     "output_type": "display_data"
    }
   ],
   "source": [
    "display(Clickdf)"
   ]
  },
  {
   "cell_type": "code",
   "execution_count": 28,
   "metadata": {},
   "outputs": [
    {
     "data": {
      "text/html": [
       "<div>\n",
       "<style>\n",
       "    .dataframe thead tr:only-child th {\n",
       "        text-align: right;\n",
       "    }\n",
       "\n",
       "    .dataframe thead th {\n",
       "        text-align: left;\n",
       "    }\n",
       "\n",
       "    .dataframe tbody tr th {\n",
       "        vertical-align: top;\n",
       "    }\n",
       "</style>\n",
       "<table border=\"1\" class=\"dataframe\">\n",
       "  <thead>\n",
       "    <tr style=\"text-align: right;\">\n",
       "      <th></th>\n",
       "      <th>0</th>\n",
       "      <th>10</th>\n",
       "      <th>100</th>\n",
       "      <th>1000</th>\n",
       "      <th>10000</th>\n",
       "      <th>20000</th>\n",
       "    </tr>\n",
       "  </thead>\n",
       "  <tbody>\n",
       "    <tr>\n",
       "      <th>1</th>\n",
       "      <td>0.0</td>\n",
       "      <td>0.272727</td>\n",
       "      <td>0.207921</td>\n",
       "      <td>0.164835</td>\n",
       "      <td>0.150385</td>\n",
       "      <td>0.150592</td>\n",
       "    </tr>\n",
       "    <tr>\n",
       "      <th>2</th>\n",
       "      <td>1.0</td>\n",
       "      <td>0.181818</td>\n",
       "      <td>0.158416</td>\n",
       "      <td>0.147852</td>\n",
       "      <td>0.139086</td>\n",
       "      <td>0.139493</td>\n",
       "    </tr>\n",
       "    <tr>\n",
       "      <th>3</th>\n",
       "      <td>0.0</td>\n",
       "      <td>0.272727</td>\n",
       "      <td>0.267327</td>\n",
       "      <td>0.270729</td>\n",
       "      <td>0.270573</td>\n",
       "      <td>0.271186</td>\n",
       "    </tr>\n",
       "    <tr>\n",
       "      <th>4</th>\n",
       "      <td>0.0</td>\n",
       "      <td>0.000000</td>\n",
       "      <td>0.039604</td>\n",
       "      <td>0.099900</td>\n",
       "      <td>0.109589</td>\n",
       "      <td>0.110294</td>\n",
       "    </tr>\n",
       "    <tr>\n",
       "      <th>5</th>\n",
       "      <td>0.0</td>\n",
       "      <td>0.181818</td>\n",
       "      <td>0.217822</td>\n",
       "      <td>0.154845</td>\n",
       "      <td>0.141486</td>\n",
       "      <td>0.137243</td>\n",
       "    </tr>\n",
       "    <tr>\n",
       "      <th>6</th>\n",
       "      <td>0.0</td>\n",
       "      <td>0.090909</td>\n",
       "      <td>0.108911</td>\n",
       "      <td>0.161838</td>\n",
       "      <td>0.188881</td>\n",
       "      <td>0.191190</td>\n",
       "    </tr>\n",
       "  </tbody>\n",
       "</table>\n",
       "</div>"
      ],
      "text/plain": [
       "   0         10        100       1000      10000     20000\n",
       "1    0.0  0.272727  0.207921  0.164835  0.150385  0.150592\n",
       "2    1.0  0.181818  0.158416  0.147852  0.139086  0.139493\n",
       "3    0.0  0.272727  0.267327  0.270729  0.270573  0.271186\n",
       "4    0.0  0.000000  0.039604  0.099900  0.109589  0.110294\n",
       "5    0.0  0.181818  0.217822  0.154845  0.141486  0.137243\n",
       "6    0.0  0.090909  0.108911  0.161838  0.188881  0.191190"
      ]
     },
     "metadata": {},
     "output_type": "display_data"
    }
   ],
   "source": [
    "Clicksum = np.sum(clicks,axis=0)\n",
    "ClickPro = clicks/np.outer(np.ones(6),Clicksum)\n",
    "CPdf = pd.DataFrame(ClickPro, index=index, columns=columns)\n",
    "display(CPdf)"
   ]
  },
  {
   "cell_type": "code",
   "execution_count": 35,
   "metadata": {},
   "outputs": [
    {
     "name": "stdout",
     "output_type": "stream",
     "text": [
      "[[0 1 0 0 1 1]\n",
      " [0 0 1 0 1 0]\n",
      " [1 0 0 1 0 1]\n",
      " [0 1 0 0 0 1]\n",
      " [0 1 1 0 0 0]\n",
      " [0 0 1 1 1 0]]\n"
     ]
    }
   ],
   "source": [
    "A = np.array([[0,1,0,0,1,1],[0, 0,1,0,1,0],[1,0,0,1,0,1],[0,1,0,0,0,1],[0,1,1,0,0,0],[0,0,1,1,1,0]])\n",
    "print A"
   ]
  },
  {
   "cell_type": "markdown",
   "metadata": {},
   "source": [
    "jth column means what links are on jth page.\n",
    "\n",
    "For example, 1st column means the links on 1st page."
   ]
  },
  {
   "cell_type": "code",
   "execution_count": 36,
   "metadata": {
    "collapsed": true
   },
   "outputs": [],
   "source": [
    "x0 = np.array([0.0,1,0,0,0,0])"
   ]
  },
  {
   "cell_type": "markdown",
   "metadata": {},
   "source": [
    "$$Ax^{(0)}=\\begin{bmatrix}0&1&0&0&1&1\\\\\n",
    "0& 0&1&0&1&0\\\\\n",
    "1&0&0&1&0&1\\\\\n",
    "0&1&0&0&0&1\\\\\n",
    "0&1&1&0&0&0\\\\\n",
    "0&0&1&1&1&0\n",
    "\\end{bmatrix}\\begin{bmatrix}\n",
    "0\\\\ 1\\\\0\\\\0\\\\0\\\\0\n",
    "\\end{bmatrix}=\\begin{bmatrix}\n",
    "1\\\\ 0\\\\0\\\\1\\\\1\\\\0\n",
    "\\end{bmatrix}$$"
   ]
  },
  {
   "cell_type": "code",
   "execution_count": 38,
   "metadata": {
    "collapsed": true
   },
   "outputs": [],
   "source": [
    "def ColN(A): #normalize each column such that each column sums to 1\n",
    "    n = A.shape[0]\n",
    "    Colsum = np.sum(A,axis=0)\n",
    "    return A/np.outer(np.ones(n),Colsum)"
   ]
  },
  {
   "cell_type": "code",
   "execution_count": 39,
   "metadata": {},
   "outputs": [
    {
     "name": "stdout",
     "output_type": "stream",
     "text": [
      "[[ 0.          0.33333333  0.          0.          0.33333333  0.33333333]\n",
      " [ 0.          0.          0.33333333  0.          0.33333333  0.        ]\n",
      " [ 1.          0.          0.          0.5         0.          0.33333333]\n",
      " [ 0.          0.33333333  0.          0.          0.          0.33333333]\n",
      " [ 0.          0.33333333  0.33333333  0.          0.          0.        ]\n",
      " [ 0.          0.          0.33333333  0.5         0.33333333  0.        ]]\n"
     ]
    }
   ],
   "source": [
    "B = ColN(A)\n",
    "print B"
   ]
  },
  {
   "cell_type": "markdown",
   "metadata": {},
   "source": [
    "$$x^{(1)}=Bx^{(0)}=\\begin{bmatrix}\n",
    "0&1/3&0  &0&1/3&1/3\\\\\n",
    "0&0  &1/3&0&1/3&0\\\\\n",
    "1&0  &0  &1/2&0&1/3\\\\\n",
    "0&1/3&0  &0&0&1/3\\\\\n",
    "0&1/3&1/3&0&0&0\\\\\n",
    "0&0  &1/3&1/2&1/3&0\n",
    "\\end{bmatrix}\\begin{bmatrix}\n",
    "0\\\\ 1\\\\0\\\\0\\\\0\\\\0\n",
    "\\end{bmatrix}=\\begin{bmatrix}\n",
    "1/3\\\\ 0\\\\0\\\\1/3\\\\1/3\\\\0\n",
    "\\end{bmatrix},\\qquad x^{(2)}=B^2x^{(0)}=Bx^{(1)}=\\begin{bmatrix}\n",
    "0&1/3&0  &0&1/3&1/3\\\\\n",
    "0&0  &1/3&0&1/3&0\\\\\n",
    "1&0  &0  &1/2&0&1/3\\\\\n",
    "0&1/3&0  &0&0&1/3\\\\\n",
    "0&1/3&1/3&0&0&0\\\\\n",
    "0&0  &1/3&1/2&1/3&0\n",
    "\\end{bmatrix}\\begin{bmatrix}\n",
    "1/3\\\\ 0\\\\0\\\\1/3\\\\1/3\\\\0\n",
    "\\end{bmatrix}=\\begin{bmatrix}\n",
    "1/9\\\\ 1/9\\\\1/2\\\\0\\\\0\\\\5/18\n",
    "\\end{bmatrix}$$"
   ]
  },
  {
   "cell_type": "markdown",
   "metadata": {},
   "source": [
    "$B$ is a **probability transition matrix**. $x^{(0)}$ is the initial state vector (nonnegative entries, sums up to 1)\n",
    "\n",
    "$1/9 = 1/3*0 + 1/3*0 + 1/3*1/3$\n",
    "\n",
    "$\\text{Prob(go to page 1) } = \\sum_{j=1}^6\\text{Prob(currently on page j) }\\cdot b_{1j}$"
   ]
  },
  {
   "cell_type": "code",
   "execution_count": 11,
   "metadata": {
    "collapsed": true
   },
   "outputs": [],
   "source": [
    "def Anx(A,x0,n): #return A^n(x0)\n",
    "    x = x0\n",
    "    for i in range(n):\n",
    "        x = np.dot(A,x)\n",
    "    return x"
   ]
  },
  {
   "cell_type": "code",
   "execution_count": 54,
   "metadata": {},
   "outputs": [
    {
     "name": "stdout",
     "output_type": "stream",
     "text": [
      "[ 0.15454545  0.13636364  0.27272727  0.10909091  0.13636364  0.19090909]\n"
     ]
    }
   ],
   "source": [
    "x10 = Anx(B,np.array([0.5,0.5,0,0,0,0]),100)\n",
    "print x10"
   ]
  },
  {
   "cell_type": "markdown",
   "metadata": {},
   "source": [
    "$x^{(n)}=B^nx^{(0)}$: power method will find the eigenvector corresponding to the biggest (in magnitude) eigenvalue. For a probability transition matrix, its bigggest eigenvalue is 1."
   ]
  },
  {
   "cell_type": "code",
   "execution_count": 30,
   "metadata": {},
   "outputs": [
    {
     "name": "stdout",
     "output_type": "stream",
     "text": [
      "[ 1.00000000+0.j         -0.29773417+0.55217952j -0.29773417-0.55217952j\n",
      "  0.18422489+0.j         -0.25542322+0.j         -0.33333333+0.j        ]\n"
     ]
    }
   ],
   "source": [
    "e,v = np.linalg.eig(B)\n",
    "print e"
   ]
  },
  {
   "cell_type": "code",
   "execution_count": 31,
   "metadata": {},
   "outputs": [
    {
     "name": "stdout",
     "output_type": "stream",
     "text": [
      "[-0.36048030+0.j -0.31807085+0.j -0.63614170+0.j -0.25445668+0.j\n",
      " -0.31807085+0.j -0.44529919+0.j]\n"
     ]
    }
   ],
   "source": [
    "print v[:,0]"
   ]
  },
  {
   "cell_type": "code",
   "execution_count": 33,
   "metadata": {},
   "outputs": [
    {
     "name": "stdout",
     "output_type": "stream",
     "text": [
      "[ 0.15454545-0.j  0.13636364-0.j  0.27272727-0.j  0.10909091-0.j\n",
      "  0.13636364-0.j  0.19090909-0.j]\n"
     ]
    }
   ],
   "source": [
    "print v[:,0]/sum(v[:,0])"
   ]
  },
  {
   "cell_type": "markdown",
   "metadata": {},
   "source": [
    "<img src=\"./fig/graph2.jpg\" style=\"width: 400px;\">"
   ]
  },
  {
   "cell_type": "markdown",
   "metadata": {},
   "source": [
    "The cluster of Pages 1,2,3 has no outgoing links to the cluster of Pages 4, 5, 6, so once a surfer exits cluster 4,5,6, the surfer will be \"trapped\" in cluster 1,2,3 and the faractional page counts for pages 4,5,6 will approach zero, thereby assignning the pages in that cluster a page rank of 0.\n",
    "\n"
   ]
  },
  {
   "cell_type": "code",
   "execution_count": 41,
   "metadata": {
    "scrolled": true
   },
   "outputs": [
    {
     "name": "stdout",
     "output_type": "stream",
     "text": [
      "[[0 1 0 0 1 1]\n",
      " [0 0 1 0 1 0]\n",
      " [1 1 0 1 0 1]\n",
      " [0 0 0 0 0 1]\n",
      " [0 0 0 0 0 0]\n",
      " [0 0 0 1 1 0]]\n"
     ]
    }
   ],
   "source": [
    "A2 = np.array([[0,1,0,0,1,1],[0, 0,1,0,1,0],[1,1,0,1,0,1],[0,0,0,0,0,1],[0,0,0,0,0,0],[0,0,0,1,1,0]])\n",
    "print A2"
   ]
  },
  {
   "cell_type": "code",
   "execution_count": 55,
   "metadata": {},
   "outputs": [
    {
     "name": "stdout",
     "output_type": "stream",
     "text": [
      "[[ 0.          0.5         0.          0.          0.33333333  0.33333333]\n",
      " [ 0.          0.          1.          0.          0.33333333  0.        ]\n",
      " [ 1.          0.5         0.          0.5         0.          0.33333333]\n",
      " [ 0.          0.          0.          0.          0.          0.33333333]\n",
      " [ 0.          0.          0.          0.          0.          0.        ]\n",
      " [ 0.          0.          0.          0.5         0.33333333  0.        ]]\n"
     ]
    }
   ],
   "source": [
    "print B2"
   ]
  },
  {
   "cell_type": "code",
   "execution_count": 58,
   "metadata": {},
   "outputs": [
    {
     "name": "stdout",
     "output_type": "stream",
     "text": [
      "[  2.00000000e-01   4.00000000e-01   4.00000000e-01   3.43664743e-40\n",
      "   0.00000000e+00   2.06198846e-40]\n"
     ]
    }
   ],
   "source": [
    "B2 = ColN(A2)\n",
    "print Anx(B2,np.ones(6)/6,100)"
   ]
  },
  {
   "cell_type": "markdown",
   "metadata": {},
   "source": [
    "Solution: with probability $\\delta$ that the surfer chooses a link, and with probability $1-\\delta$ that the surfer choose the next page at random. In the latter case, the surfer will choose any particular page at random with prob $\\frac{1-\\delta}{n}$."
   ]
  },
  {
   "cell_type": "markdown",
   "metadata": {},
   "source": [
    "Prob (pick i while on j) = $m_{ij} = \\delta b_{ij}+\\frac{1-\\delta}{n}$\n",
    "\n",
    "$M = \\delta B+\\frac{1-\\delta}{n}\\begin{bmatrix}\n",
    "1&1&\\cdots&1\\\\\n",
    "1&1&\\cdots&1\\\\\n",
    "\\vdots&\\vdots&\\ddots&\\vdots\\\\\n",
    "1&1&\\cdots&1\\\\\n",
    "\\end{bmatrix}$"
   ]
  },
  {
   "cell_type": "code",
   "execution_count": 61,
   "metadata": {},
   "outputs": [
    {
     "name": "stdout",
     "output_type": "stream",
     "text": [
      "[ 0.18953882  0.33811336  0.36003533  0.0387573   0.025       0.04855519]\n"
     ]
    }
   ],
   "source": [
    "delta = 0.85 #google's choice\n",
    "n = A2.shape[0]\n",
    "M = delta*B2 + (1-delta)/n*np.outer(np.ones(n),np.ones(n))\n",
    "print Anx(M,np.ones(6)/6, 100) #M^n(x0)"
   ]
  },
  {
   "cell_type": "markdown",
   "metadata": {},
   "source": [
    "# Speed up Clustering with SVD (PCA)"
   ]
  },
  {
   "cell_type": "code",
   "execution_count": 66,
   "metadata": {
    "collapsed": true
   },
   "outputs": [],
   "source": [
    "n=100\n",
    "P1 = 0.25*np.random.randn(n,2)\n",
    "P2 = 0.1*np.random.randn(n,2) + np.array([1,1])\n",
    "P3 = 0.2*np.random.randn(n,2) + np.array([3,2])"
   ]
  },
  {
   "cell_type": "code",
   "execution_count": 67,
   "metadata": {},
   "outputs": [
    {
     "data": {
      "image/png": "[encoded data removed]",
      "text/plain": [
       "<matplotlib.figure.Figure at 0x11b2d9dd0>"
      ]
     },
     "metadata": {},
     "output_type": "display_data"
    }
   ],
   "source": [
    "P = np.zeros([3*n,2])\n",
    "P[:n,:] = P1\n",
    "P[n:2*n,:] = P2\n",
    "P[2*n:,:]=P3\n",
    "plt.figure()\n",
    "plt.scatter(P[:,0],P[:,1], color='b')\n",
    "plt.show()"
   ]
  },
  {
   "cell_type": "code",
   "execution_count": 68,
   "metadata": {},
   "outputs": [],
   "source": [
    "whitened = whiten(P)"
   ]
  },
  {
   "cell_type": "code",
   "execution_count": 69,
   "metadata": {},
   "outputs": [],
   "source": [
    "codebook, distortion = kmeans(whitened, 3)"
   ]
  },
  {
   "cell_type": "code",
   "execution_count": 70,
   "metadata": {},
   "outputs": [
    {
     "name": "stdout",
     "output_type": "stream",
     "text": [
      "[[ 0.78912779  1.19553443]\n",
      " [ 2.36476394  2.37193001]\n",
      " [-0.00891691 -0.02322682]]\n"
     ]
    }
   ],
   "source": [
    "print codebook"
   ]
  },
  {
   "cell_type": "code",
   "execution_count": 64,
   "metadata": {},
   "outputs": [
    {
     "data": {
      "image/png": "[encoded data removed]",
      "text/plain": [
       "<matplotlib.figure.Figure at 0x11c10e350>"
      ]
     },
     "metadata": {},
     "output_type": "display_data"
    }
   ],
   "source": [
    "plt.scatter(whitened[:, 0], whitened[:, 1])\n",
    "plt.scatter(codebook[:, 0], codebook[:, 1], c='r')\n",
    "plt.show()"
   ]
  },
  {
   "cell_type": "code",
   "execution_count": null,
   "metadata": {
    "collapsed": true
   },
   "outputs": [],
   "source": []
  }
 ],
 "metadata": {
  "kernelspec": {
   "display_name": "Python 2",
   "language": "python",
   "name": "python2"
  },
  "language_info": {
   "codemirror_mode": {
    "name": "ipython",
    "version": 2
   },
   "file_extension": ".py",
   "mimetype": "text/x-python",
   "name": "python",
   "nbconvert_exporter": "python",
   "pygments_lexer": "ipython2",
   "version": "2.7.13"
  }
 },
 "nbformat": 4,
 "nbformat_minor": 2
}
