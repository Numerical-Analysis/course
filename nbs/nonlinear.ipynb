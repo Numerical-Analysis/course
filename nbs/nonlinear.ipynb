{
 "cells": [
  {
   "cell_type": "markdown",
   "metadata": {},
   "source": [
    "# This is for solving nonlinear univariate equations"
   ]
  },
  {
   "cell_type": "markdown",
   "metadata": {},
   "source": [
    "Only polynomial of degree <= 4 has formulas"
   ]
  },
  {
   "cell_type": "code",
   "execution_count": 1,
   "metadata": {
    "collapsed": false,
    "scrolled": true
   },
   "outputs": [
    {
     "data": {
      "image/png": "[encoded data removed]",
      "text/plain": [
       "<matplotlib.figure.Figure at 0x64799b0>"
      ]
     },
     "metadata": {},
     "output_type": "display_data"
    }
   ],
   "source": [
    "#graph y=x^5-x-1\n",
    "import numpy as np\n",
    "import matplotlib.pyplot as plt\n",
    "def f(x): return x**5 - x - 1\n",
    "x = np.arange(-1,1.5,0.05)\n",
    "plt.plot(x,f(x),x,0*x,'k')\n",
    "plt.title(r'$y=x^5-x-1$')\n",
    "plt.show()"
   ]
  },
  {
   "cell_type": "code",
   "execution_count": 2,
   "metadata": {
    "collapsed": false
   },
   "outputs": [
    {
     "data": {
      "text/plain": [
       "1.1673039782615267"
      ]
     },
     "execution_count": 2,
     "metadata": {},
     "output_type": "execute_result"
    }
   ],
   "source": [
    "#Finding the root\n",
    "#this method is by Brent (1973)\n",
    "from scipy.optimize import brentq\n",
    "brentq(f,-1,1.5)"
   ]
  },
  {
   "cell_type": "markdown",
   "metadata": {},
   "source": [
    "How does the function brentq find the root? We will learn three methods: Bisection, Newton, and Secant methods."
   ]
  },
  {
   "cell_type": "markdown",
   "metadata": {},
   "source": [
    "## Bisection Method"
   ]
  },
  {
   "cell_type": "markdown",
   "metadata": {},
   "source": [
    "IVT"
   ]
  },
  {
   "cell_type": "code",
   "execution_count": 7,
   "metadata": {
    "collapsed": false
   },
   "outputs": [
    {
     "name": "stdout",
     "output_type": "stream",
     "text": [
      "50\n"
     ]
    },
    {
     "data": {
      "text/plain": [
       "1.167303978261418"
      ]
     },
     "execution_count": 7,
     "metadata": {},
     "output_type": "execute_result"
    }
   ],
   "source": [
    "#Bisection method for finding roots of f(x) on a given interval [l,r]\n",
    "l = 1\n",
    "r = 1.5\n",
    "tol = 10**-15\n",
    "cnt = 1\n",
    "yl = f(l)\n",
    "yr = f(r)\n",
    "while abs(l-r)>tol and cnt<100:\n",
    "    c = (l+r)/2\n",
    "    yc = f(c)\n",
    "    if yc==0:break\n",
    "    if np.sign(yc)*np.sign(yr)<0:\n",
    "        l = c\n",
    "        yl = yc\n",
    "    if np.sign(yc)*np.sign(yl)<0:\n",
    "        r = c\n",
    "        yr = yc\n",
    "    cnt = cnt + 1\n",
    "print(cnt)\n",
    "c"
   ]
  },
  {
   "cell_type": "markdown",
   "metadata": {
    "collapsed": true
   },
   "source": [
    "## Newton's method"
   ]
  },
  {
   "cell_type": "markdown",
   "metadata": {},
   "source": [
    "Formula derivation"
   ]
  },
  {
   "cell_type": "code",
   "execution_count": 9,
   "metadata": {
    "collapsed": true
   },
   "outputs": [],
   "source": [
    "def df(x): return 5*x**4-1"
   ]
  },
  {
   "cell_type": "code",
   "execution_count": 22,
   "metadata": {
    "collapsed": false
   },
   "outputs": [
    {
     "name": "stdout",
     "output_type": "stream",
     "text": [
      "4\n"
     ]
    }
   ],
   "source": [
    "#newton's method\n",
    "x = 0.0 #x=0 is bad initial value\n",
    "tol = 10**-14\n",
    "cnt = 1\n",
    "while abs(f(x))>tol and cnt < 10:\n",
    "    x = x - f(x)/df(x)\n",
    "    cnt = cnt + 1\n",
    "x \n",
    "print(cnt)"
   ]
  },
  {
   "cell_type": "markdown",
   "metadata": {},
   "source": [
    "Initial value is important. Newton's method is however very sensitive to initial value. Try x=0\n",
    "\n",
    "Another drawback is that we need to know its derivative\n",
    "\n",
    "# Secant Method"
   ]
  },
  {
   "cell_type": "code",
   "execution_count": 21,
   "metadata": {
    "collapsed": false
   },
   "outputs": [
    {
     "name": "stdout",
     "output_type": "stream",
     "text": [
      "6\n"
     ]
    },
    {
     "data": {
      "text/plain": [
       "1.1673039782614187"
      ]
     },
     "execution_count": 21,
     "metadata": {},
     "output_type": "execute_result"
    }
   ],
   "source": [
    "#secant method\n",
    "x0 = 1.17 #initial value\n",
    "x1 = 1.18 #initial value\n",
    "tol = 10**-14\n",
    "cnt = 1\n",
    "\n",
    "while abs(f(x0)) > tol and cnt < 100:\n",
    "    x = x1 - f(x1)*(x1 - x0)/(f(x1) - f(x0))\n",
    "    x0 = x1\n",
    "    x1 = x\n",
    "    cnt = cnt + 1\n",
    "print(cnt)\n",
    "x"
   ]
  },
  {
   "cell_type": "markdown",
   "metadata": {
    "collapsed": true
   },
   "source": [
    "# Fixed point"
   ]
  },
  {
   "cell_type": "code",
   "execution_count": 23,
   "metadata": {
    "collapsed": true
   },
   "outputs": [],
   "source": [
    "import math \n",
    "def phi(x): return math.exp(-x)"
   ]
  },
  {
   "cell_type": "code",
   "execution_count": 30,
   "metadata": {
    "collapsed": false
   },
   "outputs": [
    {
     "name": "stdout",
     "output_type": "stream",
     "text": [
      "0.692200627555\n"
     ]
    }
   ],
   "source": [
    "x = 0.0\n",
    "cnt = 1\n",
    "while cnt < 4:\n",
    "    x = phi(x)\n",
    "    cnt = cnt + 1\n",
    "print(x)"
   ]
  },
  {
   "cell_type": "code",
   "execution_count": 25,
   "metadata": {
    "collapsed": false
   },
   "outputs": [
    {
     "data": {
      "text/plain": [
       "0.567143290409784"
      ]
     },
     "execution_count": 25,
     "metadata": {},
     "output_type": "execute_result"
    }
   ],
   "source": [
    "def phim(x): return phi(x)-x\n",
    "brentq(phim,-1,1)"
   ]
  },
  {
   "cell_type": "code",
   "execution_count": 28,
   "metadata": {
    "collapsed": true
   },
   "outputs": [],
   "source": [
    "def  Newton(Initial, Iter, f, df): \n",
    "    cnt = 1\n",
    "    x = Initial\n",
    "    while cnt < Iter:\n",
    "        x = x - f(x)/df(x)\n",
    "        cnt = cnt + 1\n",
    "    return x"
   ]
  },
  {
   "cell_type": "code",
   "execution_count": 29,
   "metadata": {
    "collapsed": false
   },
   "outputs": [
    {
     "data": {
      "text/plain": [
       "0.5671431650348622"
      ]
     },
     "execution_count": 29,
     "metadata": {},
     "output_type": "execute_result"
    }
   ],
   "source": [
    "def dphim(x): return -math.exp(-x) - 1\n",
    "Newton (0.0, 4, phim,dphim)"
   ]
  }
 ],
 "metadata": {
  "anaconda-cloud": {},
  "celltoolbar": "Raw Cell Format",
  "kernelspec": {
   "display_name": "Python [default]",
   "language": "python",
   "name": "python2"
  },
  "language_info": {
   "codemirror_mode": {
    "name": "ipython",
    "version": 2
   },
   "file_extension": ".py",
   "mimetype": "text/x-python",
   "name": "python",
   "nbconvert_exporter": "python",
   "pygments_lexer": "ipython2",
   "version": "2.7.12"
  }
 },
 "nbformat": 4,
 "nbformat_minor": 2
}
